{
 "cells": [
  {
   "cell_type": "markdown",
   "id": "47710a5d-ce5d-47ac-b7f6-6f04052afb8c",
   "metadata": {},
   "source": [
    "1) What are data structures, and why are they important?\n",
    "- Data structures are ways to organize and store data efficiently in a computer. They help make programs faster, more organized, and easier to manage. Common examples include arrays, lists, stacks, queues, trees, and hash tables  \n",
    "\n",
    "2) Explain the difference between mutable and immutable data types with examples.\n",
    "- Mutable = Can change (e.g., list, dict)\n",
    "  Immutable = Can't change (e.g., str, tuple)\n",
    "\n",
    "3) What are the main differences between lists and tuples in Python?\n",
    "-  The main difference between lists and tuples in Python is that lists are mutable (you can change their content), while tuples are immutable (you cannot change them after creation). Lists use square brackets [], whereas tuples use parentheses (). Tuples are generally faster and have fewer methods, making them better for fixed data, while lists are more flexible and suited for data that may change.\n",
    "\n",
    "4) Describe how dictionaries store data.\n",
    "- Dictionaries in Python store data as key-value pairs, where each key is unique and maps to a specific value. Internally, dictionaries use a hash table to quickly access values based on their keys. This makes lookups, insertions, and deletions very fast (on average, O(1) time). You can use any immutable type (like strings, numbers, or tuples) as keys, and values can be of any data type.\n",
    "\n",
    "5) Why might you use a set instead of a list in Python?\n",
    "-  We use a set instead of a list in Python when you need to store unique items and perform fast membership tests. Sets automatically remove duplicates and are optimized for quick lookup using a hash table, making operations like checking if an item exists faster than with lists. However, unlike lists, sets are unordered and do not support indexing\n",
    "\n",
    "6) What is a string in Python, and how is it different from a list?\n",
    "-  A string in Python is a sequence of characters used to represent text, enclosed in quotes. Unlike a list, which can hold multiple data types and is mutable (changeable), a string is immutable—once created, it cannot be changed. Strings are specifically for text, while lists are general-purpose containers.\n",
    "\n",
    "7) How do tuples ensure data integrity in Python?\n",
    "-  Tuples ensure data integrity in Python because they are immutable, meaning once a tuple is created, its contents cannot be changed, added to, or removed. This immutability prevents accidental or intentional modification of the data stored in a tuple, making it a reliable way to store fixed collections of values that should remain constant throughout a program. Because tuples cannot be altered, they provide a safer way to handle data that must stay consistent, which helps maintain data integrity.\n",
    "\n",
    "8) What is a hash table, and how does it relate to dictionaries in Python?\n",
    "-  A hash table is a data structure that stores key-value pairs and uses a hash function to compute an index (called a hash) where the value is stored. This allows for very fast data retrieval, insertion, and deletion—usually in constant time, o(1).\n",
    "Dictionaries are implemented using hash tables. When you use a dictionary, Python takes the key, applies a hash function to it, and uses the result to quickly find the corresponding value in memory. This is why dictionary operations like lookup, insertion, and deletion are generally very fast.\n",
    "\n",
    "9) Can lists contain different data types in Python?\n",
    "-  Yes, lists in Python can contain different data types within the same list. You can mix integers, strings, floats, objects, and even other lists all in one list.\n",
    "\n",
    "10) Explain why strings are immutable in Python.\n",
    "-  Strings are immutable in Python to ensure safety (no accidental changes), improve performance (allow reuse and optimization), enable reliable use as dictionary keys, and provide thread safety. This makes strings simple, efficient, and reliable to work with.\n",
    "\n",
    "11) What advantages do dictionaries offer over lists for certain tasks?\n",
    "-  Dictionaries offer several advantages over lists for certain tasks:\n",
    "   Fast lookups: Dictionaries provide quick access to values using keys (average o(1) time), while lists require searching through elements (o(n) time).\n",
    "   Key-value pairing: Dictionaries store data as key-value pairs, making it easy to associate and retrieve related information.\n",
    "   Uniqueness of keys: Dictionary keys are unique, preventing duplicate entries for the same key.\n",
    "   Flexible keys: Keys can be meaningful identifiers (like names or IDs), improving code readability and organization.\n",
    "\n",
    "12) Describe a scenario where using a tuple would be preferable over a list.\n",
    "-  A tuple is preferable over a list when you need to store a fixed collection of items that should not change throughout the program. For example, storing the coordinates of a point (x, y) in a 2D space is a good use case. Since the position of a point doesn’t change, using a tuple ensures the data stays constant and prevents accidental modification. Additionally, tuples are more memory-efficient and faster, making them ideal for such fixed data.\n",
    "\n",
    "13) How do sets handle duplicate values in Python?\n",
    "-   Sets automatically eliminate duplicate values. When you add items to a set, it only keeps one copy of each unique element. If you try to add a duplicate, the set simply ignores it. This makes sets ideal for storing collections of unique items without any repeats.\n",
    "\n",
    "14) How does the “in” keyword work differently for lists and dictionaries?\n",
    "-  In lists: in checks if a value exists anywhere in the list by scanning through all elements (linear search).\n",
    "   In dictionaries: in checks if a key exists in the dictionary (not values). This check is very fast because it uses the dictionary’s underlying hash table.\n",
    "\n",
    "15) Can you modify the elements of a tuple? Explain why or why not.\n",
    "-  No, you cannot modify the elements of a tuple because tuples are immutable in Python. Once a tuple is created, its contents cannot be changed—no adding, removing, or altering elements. This immutability ensures that the data remains constant and safe from accidental changes throughout the program. If you need a collection that can be modified, a list would be a better choice.\n",
    "\n",
    "16) What is a nested dictionary, and give an example of its use case?\n",
    "-  A nested dictionary in Python is a dictionary where values themselves are dictionaries. This allows you to store complex, hierarchical data in a structured way.\n",
    "   Imagine storing information about students, where each student has multiple attributes like age and grades:\n",
    "   students = {\n",
    "    \"Alice\": {\"age\": 20, \"grades\": {\"math\": 90, \"english\": 85}},\n",
    "    \"Bob\": {\"age\": 22, \"grades\": {\"math\": 75, \"english\": 80}},}\n",
    "\n",
    "17) Describe the time complexity of accessing elements in a dictionary.\n",
    "-  Accessing elements in a dictionary generally has an average time complexity of o(1), meaning it takes constant time regardless of the dictionary’s size. This efficiency comes from the underlying hash table structure, which uses a hash function to quickly locate the key’s corresponding value. However, in rare cases like hash collisions, the time complexity can degrade to o(n), but Python’s implementation minimizes this risk with good hashing and resizing strategies.\n",
    "\n",
    "18) In what situations are lists preferred over dictionaries?\n",
    "- Lists are preferred over dictionaries when:\n",
    "  Order matters: Lists maintain the order of elements, making them ideal for sequences where position is important.\n",
    "  Indexed access: You want to access items by their position (index) rather than by key.\n",
    "  Simple collections: You just need to store a simple ordered collection of items without needing key-value pairs.\n",
    "  Duplicates allowed: Lists allow duplicate values, while dictionary keys must be unique.\n",
    "  Iteration over items: When you frequently need to process items in order without the overhead of keys. \n",
    "\n",
    "19) Why are dictionaries considered unordered, and how does that affect data retrieval?\n",
    "- Dictionaries are considered unordered because they store key-value pairs without maintaining the order in which items were added. This is due to their underlying hash table structure, which focuses on fast access rather than order. As a result, when retrieving data or iterating over a dictionary, the order of items could appear random. \n",
    "\n",
    "20) Explain the difference between a list and a dictionary in terms of data retrieval.\n",
    "-   The main difference between a list and a dictionary in terms of data retrieval is how you access elements:\n",
    "    List: You retrieve items by their index position (e.g., my_list[2]). Accessing an element by index is fast (o(1)), but if you want to find an item by value, you need to search through the list (o(n)).\n",
    "    Dictionary: You retrieve items by their key (e.g., my_dict[\"name\"]). This lookup is very fast (average (o(1)) because dictionaries use hash tables to directly access values without searching.\n",
    " "
   ]
  },
  {
   "cell_type": "markdown",
   "id": "a1d480f2-41b2-4e2d-8d6d-5d90c39b2408",
   "metadata": {},
   "source": [
    "# 1. Write a code to create a string with your name and print it"
   ]
  },
  {
   "cell_type": "code",
   "execution_count": 5,
   "id": "a5afdc6b-9a46-4b7d-8e74-6a13dded163a",
   "metadata": {},
   "outputs": [
    {
     "name": "stdout",
     "output_type": "stream",
     "text": [
      "Atharv\n"
     ]
    }
   ],
   "source": [
    "my_name = \"Atharv\"\n",
    "print(my_name)"
   ]
  },
  {
   "cell_type": "markdown",
   "id": "b67114d7-4dd1-4ee7-9ef4-2c3afaf678f1",
   "metadata": {},
   "source": [
    "# 2. Write a code to find the length of the string \"Hello World\"\n"
   ]
  },
  {
   "cell_type": "code",
   "execution_count": 8,
   "id": "075b6dce-a57e-4b6f-878f-bd8982cf5dda",
   "metadata": {},
   "outputs": [
    {
     "name": "stdout",
     "output_type": "stream",
     "text": [
      "11\n"
     ]
    }
   ],
   "source": [
    "Code = \"Hello World\"\n",
    "length = len(Code)\n",
    "print(length)\n"
   ]
  },
  {
   "cell_type": "markdown",
   "id": "f4947140-f802-4019-b683-4fb1f922445e",
   "metadata": {},
   "source": [
    "# 3. Write a code to slice the first 3 characters from the string \"Python Programming\"\n"
   ]
  },
  {
   "cell_type": "code",
   "execution_count": 11,
   "id": "339f4834-2bf8-4cc1-b90d-4db476e6abe2",
   "metadata": {},
   "outputs": [
    {
     "name": "stdout",
     "output_type": "stream",
     "text": [
      "Pyt\n"
     ]
    }
   ],
   "source": [
    "Code = \"Python Programming\"\n",
    "slicing = Code[:3]\n",
    "print(slicing)\n"
   ]
  },
  {
   "cell_type": "markdown",
   "id": "5b157992-dbf5-4ec4-b8c8-68346874ed42",
   "metadata": {},
   "source": [
    "# 4. Write a code to convert the string \"hello\" to uppercase\n"
   ]
  },
  {
   "cell_type": "code",
   "execution_count": 14,
   "id": "2c80b565-57c5-4526-9bc2-fbfb8f0a0252",
   "metadata": {},
   "outputs": [
    {
     "name": "stdout",
     "output_type": "stream",
     "text": [
      "HELLO\n"
     ]
    }
   ],
   "source": [
    "Code = \"hello\"\n",
    "upper_text = Code.upper()\n",
    "print(upper_text)\n"
   ]
  },
  {
   "cell_type": "markdown",
   "id": "aa7189bd-eaab-4b19-928b-6949389896af",
   "metadata": {},
   "source": [
    "# 5. Write a code to replace the word \"apple\" with \"orange\" in the string \"I like apple\"\n"
   ]
  },
  {
   "cell_type": "code",
   "execution_count": 17,
   "id": "06435278-ec1b-4379-b490-3fb2c005a467",
   "metadata": {},
   "outputs": [
    {
     "name": "stdout",
     "output_type": "stream",
     "text": [
      "I like orange\n"
     ]
    }
   ],
   "source": [
    "Code = \"I like apple\"\n",
    "new_text = Code.replace(\"apple\", \"orange\")\n",
    "print(new_text)\n"
   ]
  },
  {
   "cell_type": "markdown",
   "id": "0ea14594-e8ab-4332-84ea-7754bc60e6c9",
   "metadata": {},
   "source": [
    "# 6. Write a code to create a list with numbers 1 to 5 and print it\n"
   ]
  },
  {
   "cell_type": "code",
   "execution_count": 20,
   "id": "fa369e01-4ec1-425e-9a64-778d5d88a6a6",
   "metadata": {},
   "outputs": [
    {
     "name": "stdout",
     "output_type": "stream",
     "text": [
      "[1, 2, 3, 4, 5]\n"
     ]
    }
   ],
   "source": [
    "numbers = [1, 2, 3, 4, 5]\n",
    "print(numbers)\n"
   ]
  },
  {
   "cell_type": "markdown",
   "id": "3b867da2-08a6-427c-a330-0cd53cde969f",
   "metadata": {},
   "source": [
    "# 7. Write a code to append the number 10 to the list [1, 2, 3, 4]\n"
   ]
  },
  {
   "cell_type": "code",
   "execution_count": 23,
   "id": "160451ee-9889-439c-97c6-23ab1c126432",
   "metadata": {},
   "outputs": [
    {
     "name": "stdout",
     "output_type": "stream",
     "text": [
      "[1, 2, 3, 4, 10]\n"
     ]
    }
   ],
   "source": [
    "numbers = [1, 2, 3, 4]\n",
    "numbers.append(10)\n",
    "print(numbers)\n"
   ]
  },
  {
   "cell_type": "markdown",
   "id": "a0bf67f2-a6cf-48d6-b1ad-bf6466caa2b4",
   "metadata": {},
   "source": [
    "# 8. Write a code to remove the number 3 from the list [1, 2, 3, 4, 5]\n"
   ]
  },
  {
   "cell_type": "code",
   "execution_count": 26,
   "id": "2da64bb1-9fa1-4787-b256-e539a9cb83ba",
   "metadata": {},
   "outputs": [
    {
     "name": "stdout",
     "output_type": "stream",
     "text": [
      "[1, 2, 4, 5]\n"
     ]
    }
   ],
   "source": [
    "numbers = [1, 2, 3, 4, 5]\n",
    "numbers.remove(3)\n",
    "print(numbers)\n"
   ]
  },
  {
   "cell_type": "markdown",
   "id": "2f20046a-1fa6-47c8-a7d5-17fe28e4a047",
   "metadata": {},
   "source": [
    "# 9. Write a code to access the second element in the list ['a', 'b', 'c', 'd']\n"
   ]
  },
  {
   "cell_type": "code",
   "execution_count": 29,
   "id": "f3f5873f-2b4a-4221-a9b3-5a70e563e12d",
   "metadata": {},
   "outputs": [
    {
     "name": "stdout",
     "output_type": "stream",
     "text": [
      "b\n"
     ]
    }
   ],
   "source": [
    "letters = ['a', 'b', 'c', 'd']\n",
    "second_element = letters[1]\n",
    "print(second_element)\n"
   ]
  },
  {
   "cell_type": "markdown",
   "id": "c15ac0b1-be49-4440-a7a5-6e3f83ceffeb",
   "metadata": {},
   "source": [
    "# 10. Write a code to reverse the list [10, 20, 30, 40, 50].\n"
   ]
  },
  {
   "cell_type": "code",
   "execution_count": 32,
   "id": "f7b4859d-2213-4d6d-a012-b8ed1be1799a",
   "metadata": {},
   "outputs": [
    {
     "name": "stdout",
     "output_type": "stream",
     "text": [
      "[50, 40, 30, 20, 10]\n"
     ]
    }
   ],
   "source": [
    "numbers = [10, 20, 30, 40, 50]\n",
    "numbers.reverse()\n",
    "print(numbers)\n"
   ]
  },
  {
   "cell_type": "markdown",
   "id": "29b0f256-f36f-47c8-aa12-798bc5e10142",
   "metadata": {},
   "source": [
    "# 11.Write a code to create a tuple with the elements 100, 200, 300 and print it.\n"
   ]
  },
  {
   "cell_type": "code",
   "execution_count": 35,
   "id": "71a8f494-e4ad-456f-8a53-57eca5035cd9",
   "metadata": {},
   "outputs": [
    {
     "name": "stdout",
     "output_type": "stream",
     "text": [
      "(100, 200, 300)\n"
     ]
    }
   ],
   "source": [
    "Code = (100, 200, 300)\n",
    "print(Code)\n"
   ]
  },
  {
   "cell_type": "markdown",
   "id": "20ddd8b2-3ac8-4cb8-a824-ced5233efe77",
   "metadata": {},
   "source": [
    "#  12. Write a code to access the second-to-last element of the tuple ('red', 'green', 'blue', 'yellow').\n"
   ]
  },
  {
   "cell_type": "code",
   "execution_count": 38,
   "id": "e3178e20-a6b1-456f-8879-afd776eee694",
   "metadata": {},
   "outputs": [
    {
     "name": "stdout",
     "output_type": "stream",
     "text": [
      "blue\n"
     ]
    }
   ],
   "source": [
    "colors = ('red', 'green', 'blue', 'yellow')\n",
    "second_to_last = colors[-2]\n",
    "print(second_to_last)\n"
   ]
  },
  {
   "cell_type": "markdown",
   "id": "b2dd65b7-cdad-4e68-86a3-bdd3cf2438d0",
   "metadata": {},
   "source": [
    "#  13. Write a code to find the minimum number in the tuple (10, 20, 5, 15).\n"
   ]
  },
  {
   "cell_type": "code",
   "execution_count": 41,
   "id": "5b7ee000-fbde-4d01-9eac-f333a68ce43c",
   "metadata": {},
   "outputs": [
    {
     "name": "stdout",
     "output_type": "stream",
     "text": [
      "5\n"
     ]
    }
   ],
   "source": [
    "numbers = (10, 20, 5, 15)\n",
    "minimum = min(numbers)\n",
    "print(minimum)\n"
   ]
  },
  {
   "cell_type": "markdown",
   "id": "70016056-30bd-4f94-a5c2-0c5386c922ae",
   "metadata": {},
   "source": [
    "#  14. Write a code to find the index of the element \"cat\" in the tuple ('dog', 'cat', 'rabbit').\n"
   ]
  },
  {
   "cell_type": "code",
   "execution_count": 48,
   "id": "99745f02-9f29-4926-bfab-6af03d57c7fb",
   "metadata": {},
   "outputs": [
    {
     "name": "stdout",
     "output_type": "stream",
     "text": [
      "1\n"
     ]
    }
   ],
   "source": [
    "animals = ('dog', 'cat', 'rabbit')\n",
    "index_cat = animals.index('cat')\n",
    "print(index_cat)\n"
   ]
  },
  {
   "cell_type": "markdown",
   "id": "3f27789d-f696-4017-947b-ca1a5ffe219b",
   "metadata": {},
   "source": [
    "#  15. Write a code to create a tuple containing three different fruits and check if \"kiwi\" is in it.\n"
   ]
  },
  {
   "cell_type": "code",
   "execution_count": 53,
   "id": "a74f7fb8-63a8-46e2-8080-fdd9827f4b80",
   "metadata": {},
   "outputs": [
    {
     "name": "stdout",
     "output_type": "stream",
     "text": [
      "False\n"
     ]
    }
   ],
   "source": [
    "fruits = ('apple', 'banana', 'orange')\n",
    "present = \"kiwi\" in fruits\n",
    "print(present)\n"
   ]
  },
  {
   "cell_type": "markdown",
   "id": "f97f8964-c19c-4c63-8278-9d9906ea2732",
   "metadata": {},
   "source": [
    "# 16. Write a code to create a set with the elements 'a', 'b', 'c' and print it.\n"
   ]
  },
  {
   "cell_type": "code",
   "execution_count": 56,
   "id": "ef4adbf2-be2c-4a30-ab29-329772edf3f3",
   "metadata": {},
   "outputs": [
    {
     "name": "stdout",
     "output_type": "stream",
     "text": [
      "{'a', 'b', 'c'}\n"
     ]
    }
   ],
   "source": [
    "my_set = {'a', 'b', 'c'}\n",
    "print(my_set)\n"
   ]
  },
  {
   "cell_type": "markdown",
   "id": "e9805d6d-7aef-48c9-bf9e-0d3be9b89bdd",
   "metadata": {},
   "source": [
    "#  17. Write a code to clear all elements from the set {1, 2, 3, 4, 5}.\n"
   ]
  },
  {
   "cell_type": "code",
   "execution_count": 59,
   "id": "3e8f160d-5a6a-4c89-b557-40f4b2d5c0d9",
   "metadata": {},
   "outputs": [
    {
     "name": "stdout",
     "output_type": "stream",
     "text": [
      "set()\n"
     ]
    }
   ],
   "source": [
    "Code = {1, 2, 3, 4, 5}\n",
    "Code.clear()\n",
    "print(Code)\n"
   ]
  },
  {
   "cell_type": "markdown",
   "id": "933b2e59-811e-4c9d-b42b-42fa63b6a412",
   "metadata": {},
   "source": [
    "#  18. Write a code to remove the element 4 from the set {1, 2, 3, 4}.\n"
   ]
  },
  {
   "cell_type": "code",
   "execution_count": 62,
   "id": "d7d94519-6807-4e9d-b112-42215489838c",
   "metadata": {},
   "outputs": [
    {
     "name": "stdout",
     "output_type": "stream",
     "text": [
      "{1, 2, 3}\n"
     ]
    }
   ],
   "source": [
    "Code = {1, 2, 3, 4}\n",
    "Code.remove(4)\n",
    "print(Code)\n"
   ]
  },
  {
   "cell_type": "markdown",
   "id": "2d3c8f1c-cdc6-4b9a-bee0-e55554f964c6",
   "metadata": {},
   "source": [
    "#  19. Write a code to find the union of two sets {1, 2, 3} and {3, 4, 5}.\n"
   ]
  },
  {
   "cell_type": "code",
   "execution_count": 65,
   "id": "ab071938-09b8-4793-a934-eb57b929b7d7",
   "metadata": {},
   "outputs": [
    {
     "name": "stdout",
     "output_type": "stream",
     "text": [
      "{1, 2, 3, 4, 5}\n"
     ]
    }
   ],
   "source": [
    "Code1 = {1, 2, 3}\n",
    "Code2 = {3, 4, 5}\n",
    "union_set = Code1.union(Code2)\n",
    "print(union_set)\n"
   ]
  },
  {
   "cell_type": "markdown",
   "id": "4688f5b8-05f0-485d-85f3-45c89f32f641",
   "metadata": {},
   "source": [
    "#  20. Write a code to find the intersection of two sets {1, 2, 3} and {2, 3, 4}.\n"
   ]
  },
  {
   "cell_type": "code",
   "execution_count": 70,
   "id": "1a720005-1c4a-41bc-874a-8402eae715bf",
   "metadata": {},
   "outputs": [
    {
     "name": "stdout",
     "output_type": "stream",
     "text": [
      "{2, 3}\n"
     ]
    }
   ],
   "source": [
    "Code1 = {1, 2, 3}\n",
    "Code2 = {2, 3, 4}\n",
    "intersection_set = Code1.intersection(Code2)\n",
    "print(intersection_set)\n"
   ]
  },
  {
   "cell_type": "markdown",
   "id": "d37ee472-974f-40a0-b1ac-77e0d7b71854",
   "metadata": {},
   "source": [
    "#  21. Write a code to create a dictionary with the keys \"name\", \"age\", and \"city\", and print it.\n"
   ]
  },
  {
   "cell_type": "code",
   "execution_count": 77,
   "id": "2e750173-11b1-4060-9f82-d86fc837b1e2",
   "metadata": {},
   "outputs": [
    {
     "name": "stdout",
     "output_type": "stream",
     "text": [
      "{'name': 'Alice', 'age': 25, 'city': 'New York'}\n"
     ]
    }
   ],
   "source": [
    "person = {\"name\": \"Alice\",\n",
    "          \"age\": 25,\n",
    "          \"city\": \"New York\"}\n",
    "print(person)\n"
   ]
  },
  {
   "cell_type": "markdown",
   "id": "baefeddb-b3c8-4bea-b935-fcbd5ad87948",
   "metadata": {},
   "source": [
    "#  22. Write a code to add a new key-value pair \"country\": \"USA\" to the dictionary {'name': 'John', 'age': 25}.\n"
   ]
  },
  {
   "cell_type": "code",
   "execution_count": 80,
   "id": "015dbb07-114b-4052-87f3-dc2dcf70c744",
   "metadata": {},
   "outputs": [
    {
     "name": "stdout",
     "output_type": "stream",
     "text": [
      "{'name': 'John', 'age': 25, 'country': 'USA'}\n"
     ]
    }
   ],
   "source": [
    "person = {'name': 'John', 'age': 25}\n",
    "person['country'] = 'USA'\n",
    "print(person)\n"
   ]
  },
  {
   "cell_type": "markdown",
   "id": "53383257-7d09-4153-b8f8-ba025bdc9ea6",
   "metadata": {},
   "source": [
    "#  23. Write a code to access the value associated with the key \"name\" in the dictionary {'name': 'Alice', 'age': 30}.\n"
   ]
  },
  {
   "cell_type": "code",
   "execution_count": 83,
   "id": "8e65f75d-3cac-4ada-90cd-bb9181ff25bc",
   "metadata": {},
   "outputs": [
    {
     "name": "stdout",
     "output_type": "stream",
     "text": [
      "Alice\n"
     ]
    }
   ],
   "source": [
    "person = {'name': 'Alice', 'age': 30}\n",
    "name_value = person['name']\n",
    "print(name_value)\n"
   ]
  },
  {
   "cell_type": "markdown",
   "id": "2fc875bb-46ba-47f6-a53e-b56958e92b15",
   "metadata": {},
   "source": [
    "#  24. Write a code to remove the key \"age\" from the dictionary {'name': 'Bob', 'age': 22, 'city': 'New York'}.\n"
   ]
  },
  {
   "cell_type": "code",
   "execution_count": 86,
   "id": "92c2252c-2e39-431c-87af-3bf4b7a339ef",
   "metadata": {},
   "outputs": [
    {
     "name": "stdout",
     "output_type": "stream",
     "text": [
      "{'name': 'Bob', 'city': 'New York'}\n"
     ]
    }
   ],
   "source": [
    "person = {'name': 'Bob', 'age': 22, 'city': 'New York'}\n",
    "person.pop('age')\n",
    "print(person)\n"
   ]
  },
  {
   "cell_type": "markdown",
   "id": "65522604-cabf-42f1-bb6c-7872af32265d",
   "metadata": {},
   "source": [
    "#  25. Write a code to check if the key \"city\" exists in the dictionary {'name': 'Alice', 'city': 'Paris'}.\n"
   ]
  },
  {
   "cell_type": "code",
   "execution_count": 89,
   "id": "28420fcb-255a-4b1a-ac9e-a2d2ff18b2f2",
   "metadata": {},
   "outputs": [
    {
     "name": "stdout",
     "output_type": "stream",
     "text": [
      "True\n"
     ]
    }
   ],
   "source": [
    "person = {'name': 'Alice', 'city': 'Paris'}\n",
    "has_city = 'city' in person\n",
    "print(has_city)\n"
   ]
  },
  {
   "cell_type": "markdown",
   "id": "9049954f-c4cc-4d88-9759-40971b614181",
   "metadata": {},
   "source": [
    "#  26. Write a code to create a list, a tuple, and a dictionary, and print them all.\n"
   ]
  },
  {
   "cell_type": "code",
   "execution_count": 92,
   "id": "5395daa2-aecb-46a0-8a94-44758e672406",
   "metadata": {},
   "outputs": [
    {
     "name": "stdout",
     "output_type": "stream",
     "text": [
      "List: [1, 2, 3]\n",
      "Tuple: ('a', 'b', 'c')\n",
      "Dictionary: {'name': 'Alice', 'age': 25}\n"
     ]
    }
   ],
   "source": [
    "my_list = [1, 2, 3]\n",
    "my_tuple = ('a', 'b', 'c')\n",
    "my_dict = {'name': 'Alice', 'age': 25}\n",
    "\n",
    "print(\"List:\", my_list)\n",
    "print(\"Tuple:\", my_tuple)\n",
    "print(\"Dictionary:\", my_dict)\n"
   ]
  },
  {
   "cell_type": "markdown",
   "id": "d708140a-6834-4251-9330-be93c1dc9cd0",
   "metadata": {},
   "source": [
    "#  27. Write a code to create a list of 5 random numbers between 1 and 100, sort it in ascending order, and print the result.(replaced)\n",
    " \n"
   ]
  },
  {
   "cell_type": "code",
   "execution_count": 95,
   "id": "65663ebf-a9f1-4466-b31c-f39ae6f0c6d9",
   "metadata": {},
   "outputs": [
    {
     "name": "stdout",
     "output_type": "stream",
     "text": [
      "Sorted random numbers: [18, 33, 35, 62, 98]\n"
     ]
    }
   ],
   "source": [
    "import random\n",
    "\n",
    "random_numbers = [random.randint(1, 100) for _ in range(5)]\n",
    "random_numbers.sort()\n",
    "print(\"Sorted random numbers:\", random_numbers)\n"
   ]
  },
  {
   "cell_type": "markdown",
   "id": "074fec2d-deb1-484e-beb1-3091f8c32659",
   "metadata": {},
   "source": [
    "# 28. Write a code to create a list with strings and print the element at the third index.\n"
   ]
  },
  {
   "cell_type": "code",
   "execution_count": 98,
   "id": "f53a8c5e-1d28-4480-9449-c949378456f3",
   "metadata": {},
   "outputs": [
    {
     "name": "stdout",
     "output_type": "stream",
     "text": [
      "Element at third index: date\n"
     ]
    }
   ],
   "source": [
    "Code = [\"apple\", \"banana\", \"cherry\", \"date\", \"elderberry\"]\n",
    "print(\"Element at third index:\", Code[3])\n"
   ]
  },
  {
   "cell_type": "markdown",
   "id": "0c82f38b-284e-466b-9314-374e382d8291",
   "metadata": {},
   "source": [
    "#  29. Write a code to combine two dictionaries into one and print the result.\n"
   ]
  },
  {
   "cell_type": "code",
   "execution_count": 105,
   "id": "8cb7295a-b862-443f-85a1-f76a0d7c1e8c",
   "metadata": {},
   "outputs": [
    {
     "name": "stdout",
     "output_type": "stream",
     "text": [
      "Combined Dictionary: {'a': 1, 'b': 2, 'c': 3, 'd': 4}\n"
     ]
    }
   ],
   "source": [
    "dict1 = {'a': 1, 'b': 2}\n",
    "dict2 = {'c': 3, 'd': 4}\n",
    "\n",
    "combined_dict = {**dict1,**dict2}\n",
    "\n",
    "print(\"Combined Dictionary:\", combined_dict)\n"
   ]
  },
  {
   "cell_type": "markdown",
   "id": "10232d9c-c974-444c-bb95-3c77383b807c",
   "metadata": {},
   "source": [
    "#  30. Write a code to convert a list of strings into a set.\n"
   ]
  },
  {
   "cell_type": "code",
   "execution_count": null,
   "id": "1808b92c-fe9f-4f9c-b653-522da964a7be",
   "metadata": {},
   "outputs": [],
   "source": [
    "string_list = [\"apple\", \"banana\", \"cherry\", \"apple\"]\n",
    "string_set = set(string_list)\n",
    "print(\"Set:\", string_set)\n"
   ]
  }
 ],
 "metadata": {
  "kernelspec": {
   "display_name": "Python 3 (ipykernel)",
   "language": "python",
   "name": "python3"
  },
  "language_info": {
   "codemirror_mode": {
    "name": "ipython",
    "version": 3
   },
   "file_extension": ".py",
   "mimetype": "text/x-python",
   "name": "python",
   "nbconvert_exporter": "python",
   "pygments_lexer": "ipython3",
   "version": "3.12.7"
  }
 },
 "nbformat": 4,
 "nbformat_minor": 5
}
